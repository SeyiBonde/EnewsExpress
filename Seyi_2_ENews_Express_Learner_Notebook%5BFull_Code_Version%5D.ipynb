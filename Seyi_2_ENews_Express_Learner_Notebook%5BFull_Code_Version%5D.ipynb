{
 "cells": [
  {
   "cell_type": "markdown",
   "id": "6yDxo9u0d9Na",
   "metadata": {
    "id": "6yDxo9u0d9Na"
   },
   "source": [
    "# Project Business Statistics: E-news Express\n",
    "\n",
    "**Marks: 60**"
   ]
  },
  {
   "cell_type": "markdown",
   "id": "SrLd-ICEmPSD",
   "metadata": {
    "id": "SrLd-ICEmPSD"
   },
   "source": [
    "## Define Problem Statement and Objectives"
   ]
  },
  {
   "cell_type": "markdown",
   "id": "9Vt1PLLqmXNn",
   "metadata": {
    "id": "9Vt1PLLqmXNn"
   },
   "source": [
    "E-news Express is an online news platform that  aims to expand its business by acquiring new subscribers. \n",
    "\n",
    "The problem statement: \n",
    "The executives of E-news express are concerned that there has been a decline in new monthly subscribers compared to the past year because the current webpage is not designed well enough to keep customers engaged long enough to decide to subscribe.\n",
    "\n",
    "Based on this problem, the design team of the company has created a new landing page.\n",
    "\n",
    "The objective is to test the effectiveness of the new landing page in gathering new subscribers for the news portal by answering these following questions:\n",
    "\n",
    "Do the users spend more time on the new landing page than on the existing landing page?\n",
    "Is the conversion rate (the proportion of users who visit the landing page and get converted) for the new page greater than the conversion rate for the old page?\n",
    "Does the converted status depend on the preferred language?\n",
    "Is the time spent on the new page the same for the different language users?"
   ]
  },
  {
   "cell_type": "markdown",
   "id": "a6a3d218",
   "metadata": {
    "id": "a6a3d218"
   },
   "source": [
    "## Import all the necessary libraries"
   ]
  },
  {
   "cell_type": "code",
   "execution_count": 1,
   "id": "658c5dec",
   "metadata": {
    "id": "658c5dec"
   },
   "outputs": [],
   "source": [
    "# import the important packages\n",
    "import pandas as pd  # library used for data manipulation and analysis\n",
    "import numpy as np  # library used for working with arrays\n",
    "import matplotlib.pyplot as plt  # library for plots and visualizations\n",
    "import seaborn as sns  # library for visualizations\n",
    "%matplotlib inline\n",
    "import scipy.stats as stats #for various statistics calculations1q "
   ]
  },
  {
   "cell_type": "markdown",
   "id": "6970dd99",
   "metadata": {
    "id": "6970dd99"
   },
   "source": [
    "## Reading the Data into a DataFrame"
   ]
  },
  {
   "cell_type": "code",
   "execution_count": 2,
   "id": "d3b95640",
   "metadata": {
    "id": "d3b95640"
   },
   "outputs": [
    {
     "data": {
      "text/html": [
       "<div>\n",
       "<style scoped>\n",
       "    .dataframe tbody tr th:only-of-type {\n",
       "        vertical-align: middle;\n",
       "    }\n",
       "\n",
       "    .dataframe tbody tr th {\n",
       "        vertical-align: top;\n",
       "    }\n",
       "\n",
       "    .dataframe thead th {\n",
       "        text-align: right;\n",
       "    }\n",
       "</style>\n",
       "<table border=\"1\" class=\"dataframe\">\n",
       "  <thead>\n",
       "    <tr style=\"text-align: right;\">\n",
       "      <th></th>\n",
       "      <th>user_id</th>\n",
       "      <th>group</th>\n",
       "      <th>landing_page</th>\n",
       "      <th>time_spent_on_the_page</th>\n",
       "      <th>converted</th>\n",
       "      <th>language_preferred</th>\n",
       "    </tr>\n",
       "  </thead>\n",
       "  <tbody>\n",
       "    <tr>\n",
       "      <th>0</th>\n",
       "      <td>546592</td>\n",
       "      <td>control</td>\n",
       "      <td>old</td>\n",
       "      <td>3.48</td>\n",
       "      <td>no</td>\n",
       "      <td>Spanish</td>\n",
       "    </tr>\n",
       "    <tr>\n",
       "      <th>1</th>\n",
       "      <td>546468</td>\n",
       "      <td>treatment</td>\n",
       "      <td>new</td>\n",
       "      <td>7.13</td>\n",
       "      <td>yes</td>\n",
       "      <td>English</td>\n",
       "    </tr>\n",
       "    <tr>\n",
       "      <th>2</th>\n",
       "      <td>546462</td>\n",
       "      <td>treatment</td>\n",
       "      <td>new</td>\n",
       "      <td>4.40</td>\n",
       "      <td>no</td>\n",
       "      <td>Spanish</td>\n",
       "    </tr>\n",
       "    <tr>\n",
       "      <th>3</th>\n",
       "      <td>546567</td>\n",
       "      <td>control</td>\n",
       "      <td>old</td>\n",
       "      <td>3.02</td>\n",
       "      <td>no</td>\n",
       "      <td>French</td>\n",
       "    </tr>\n",
       "    <tr>\n",
       "      <th>4</th>\n",
       "      <td>546459</td>\n",
       "      <td>treatment</td>\n",
       "      <td>new</td>\n",
       "      <td>4.75</td>\n",
       "      <td>yes</td>\n",
       "      <td>Spanish</td>\n",
       "    </tr>\n",
       "    <tr>\n",
       "      <th>...</th>\n",
       "      <td>...</td>\n",
       "      <td>...</td>\n",
       "      <td>...</td>\n",
       "      <td>...</td>\n",
       "      <td>...</td>\n",
       "      <td>...</td>\n",
       "    </tr>\n",
       "    <tr>\n",
       "      <th>95</th>\n",
       "      <td>546446</td>\n",
       "      <td>treatment</td>\n",
       "      <td>new</td>\n",
       "      <td>5.15</td>\n",
       "      <td>no</td>\n",
       "      <td>Spanish</td>\n",
       "    </tr>\n",
       "    <tr>\n",
       "      <th>96</th>\n",
       "      <td>546544</td>\n",
       "      <td>control</td>\n",
       "      <td>old</td>\n",
       "      <td>6.52</td>\n",
       "      <td>yes</td>\n",
       "      <td>English</td>\n",
       "    </tr>\n",
       "    <tr>\n",
       "      <th>97</th>\n",
       "      <td>546472</td>\n",
       "      <td>treatment</td>\n",
       "      <td>new</td>\n",
       "      <td>7.07</td>\n",
       "      <td>yes</td>\n",
       "      <td>Spanish</td>\n",
       "    </tr>\n",
       "    <tr>\n",
       "      <th>98</th>\n",
       "      <td>546481</td>\n",
       "      <td>treatment</td>\n",
       "      <td>new</td>\n",
       "      <td>6.20</td>\n",
       "      <td>yes</td>\n",
       "      <td>Spanish</td>\n",
       "    </tr>\n",
       "    <tr>\n",
       "      <th>99</th>\n",
       "      <td>546483</td>\n",
       "      <td>treatment</td>\n",
       "      <td>new</td>\n",
       "      <td>5.86</td>\n",
       "      <td>yes</td>\n",
       "      <td>English</td>\n",
       "    </tr>\n",
       "  </tbody>\n",
       "</table>\n",
       "<p>100 rows × 6 columns</p>\n",
       "</div>"
      ],
      "text/plain": [
       "    user_id      group landing_page  time_spent_on_the_page converted  \\\n",
       "0    546592    control          old                    3.48        no   \n",
       "1    546468  treatment          new                    7.13       yes   \n",
       "2    546462  treatment          new                    4.40        no   \n",
       "3    546567    control          old                    3.02        no   \n",
       "4    546459  treatment          new                    4.75       yes   \n",
       "..      ...        ...          ...                     ...       ...   \n",
       "95   546446  treatment          new                    5.15        no   \n",
       "96   546544    control          old                    6.52       yes   \n",
       "97   546472  treatment          new                    7.07       yes   \n",
       "98   546481  treatment          new                    6.20       yes   \n",
       "99   546483  treatment          new                    5.86       yes   \n",
       "\n",
       "   language_preferred  \n",
       "0             Spanish  \n",
       "1             English  \n",
       "2             Spanish  \n",
       "3              French  \n",
       "4             Spanish  \n",
       "..                ...  \n",
       "95            Spanish  \n",
       "96            English  \n",
       "97            Spanish  \n",
       "98            Spanish  \n",
       "99            English  \n",
       "\n",
       "[100 rows x 6 columns]"
      ]
     },
     "execution_count": 2,
     "metadata": {},
     "output_type": "execute_result"
    }
   ],
   "source": [
    "df=pd.read_csv('abtest.csv')\n",
    "df"
   ]
  },
  {
   "cell_type": "markdown",
   "id": "9d75cfa2",
   "metadata": {
    "id": "9d75cfa2"
   },
   "source": [
    "## Explore the dataset and extract insights using Exploratory Data Analysis"
   ]
  },
  {
   "cell_type": "markdown",
   "id": "27201534",
   "metadata": {
    "id": "27201534"
   },
   "source": [
    "- Data Overview\n",
    "  - Viewing the first and last few rows of the dataset\n",
    "  - Checking the shape of the dataset\n",
    "  - Getting the statistical summary for the variables\n",
    "- Check for missing values\n",
    "- Check for duplicates"
   ]
  },
  {
   "cell_type": "code",
   "execution_count": 3,
   "id": "e1ad11d4",
   "metadata": {
    "id": "e1ad11d4"
   },
   "outputs": [
    {
     "data": {
      "text/html": [
       "<div>\n",
       "<style scoped>\n",
       "    .dataframe tbody tr th:only-of-type {\n",
       "        vertical-align: middle;\n",
       "    }\n",
       "\n",
       "    .dataframe tbody tr th {\n",
       "        vertical-align: top;\n",
       "    }\n",
       "\n",
       "    .dataframe thead th {\n",
       "        text-align: right;\n",
       "    }\n",
       "</style>\n",
       "<table border=\"1\" class=\"dataframe\">\n",
       "  <thead>\n",
       "    <tr style=\"text-align: right;\">\n",
       "      <th></th>\n",
       "      <th>user_id</th>\n",
       "      <th>group</th>\n",
       "      <th>landing_page</th>\n",
       "      <th>time_spent_on_the_page</th>\n",
       "      <th>converted</th>\n",
       "      <th>language_preferred</th>\n",
       "    </tr>\n",
       "  </thead>\n",
       "  <tbody>\n",
       "    <tr>\n",
       "      <th>0</th>\n",
       "      <td>546592</td>\n",
       "      <td>control</td>\n",
       "      <td>old</td>\n",
       "      <td>3.48</td>\n",
       "      <td>no</td>\n",
       "      <td>Spanish</td>\n",
       "    </tr>\n",
       "    <tr>\n",
       "      <th>1</th>\n",
       "      <td>546468</td>\n",
       "      <td>treatment</td>\n",
       "      <td>new</td>\n",
       "      <td>7.13</td>\n",
       "      <td>yes</td>\n",
       "      <td>English</td>\n",
       "    </tr>\n",
       "    <tr>\n",
       "      <th>2</th>\n",
       "      <td>546462</td>\n",
       "      <td>treatment</td>\n",
       "      <td>new</td>\n",
       "      <td>4.40</td>\n",
       "      <td>no</td>\n",
       "      <td>Spanish</td>\n",
       "    </tr>\n",
       "    <tr>\n",
       "      <th>3</th>\n",
       "      <td>546567</td>\n",
       "      <td>control</td>\n",
       "      <td>old</td>\n",
       "      <td>3.02</td>\n",
       "      <td>no</td>\n",
       "      <td>French</td>\n",
       "    </tr>\n",
       "    <tr>\n",
       "      <th>4</th>\n",
       "      <td>546459</td>\n",
       "      <td>treatment</td>\n",
       "      <td>new</td>\n",
       "      <td>4.75</td>\n",
       "      <td>yes</td>\n",
       "      <td>Spanish</td>\n",
       "    </tr>\n",
       "  </tbody>\n",
       "</table>\n",
       "</div>"
      ],
      "text/plain": [
       "   user_id      group landing_page  time_spent_on_the_page converted  \\\n",
       "0   546592    control          old                    3.48        no   \n",
       "1   546468  treatment          new                    7.13       yes   \n",
       "2   546462  treatment          new                    4.40        no   \n",
       "3   546567    control          old                    3.02        no   \n",
       "4   546459  treatment          new                    4.75       yes   \n",
       "\n",
       "  language_preferred  \n",
       "0            Spanish  \n",
       "1            English  \n",
       "2            Spanish  \n",
       "3             French  \n",
       "4            Spanish  "
      ]
     },
     "execution_count": 3,
     "metadata": {},
     "output_type": "execute_result"
    }
   ],
   "source": [
    "#Viewing the first 5 rows\n",
    "df.head()"
   ]
  },
  {
   "cell_type": "code",
   "execution_count": 4,
   "id": "efac180b-c08c-4a72-9063-89c9785bbc99",
   "metadata": {},
   "outputs": [
    {
     "data": {
      "text/html": [
       "<div>\n",
       "<style scoped>\n",
       "    .dataframe tbody tr th:only-of-type {\n",
       "        vertical-align: middle;\n",
       "    }\n",
       "\n",
       "    .dataframe tbody tr th {\n",
       "        vertical-align: top;\n",
       "    }\n",
       "\n",
       "    .dataframe thead th {\n",
       "        text-align: right;\n",
       "    }\n",
       "</style>\n",
       "<table border=\"1\" class=\"dataframe\">\n",
       "  <thead>\n",
       "    <tr style=\"text-align: right;\">\n",
       "      <th></th>\n",
       "      <th>user_id</th>\n",
       "      <th>group</th>\n",
       "      <th>landing_page</th>\n",
       "      <th>time_spent_on_the_page</th>\n",
       "      <th>converted</th>\n",
       "      <th>language_preferred</th>\n",
       "    </tr>\n",
       "  </thead>\n",
       "  <tbody>\n",
       "    <tr>\n",
       "      <th>95</th>\n",
       "      <td>546446</td>\n",
       "      <td>treatment</td>\n",
       "      <td>new</td>\n",
       "      <td>5.15</td>\n",
       "      <td>no</td>\n",
       "      <td>Spanish</td>\n",
       "    </tr>\n",
       "    <tr>\n",
       "      <th>96</th>\n",
       "      <td>546544</td>\n",
       "      <td>control</td>\n",
       "      <td>old</td>\n",
       "      <td>6.52</td>\n",
       "      <td>yes</td>\n",
       "      <td>English</td>\n",
       "    </tr>\n",
       "    <tr>\n",
       "      <th>97</th>\n",
       "      <td>546472</td>\n",
       "      <td>treatment</td>\n",
       "      <td>new</td>\n",
       "      <td>7.07</td>\n",
       "      <td>yes</td>\n",
       "      <td>Spanish</td>\n",
       "    </tr>\n",
       "    <tr>\n",
       "      <th>98</th>\n",
       "      <td>546481</td>\n",
       "      <td>treatment</td>\n",
       "      <td>new</td>\n",
       "      <td>6.20</td>\n",
       "      <td>yes</td>\n",
       "      <td>Spanish</td>\n",
       "    </tr>\n",
       "    <tr>\n",
       "      <th>99</th>\n",
       "      <td>546483</td>\n",
       "      <td>treatment</td>\n",
       "      <td>new</td>\n",
       "      <td>5.86</td>\n",
       "      <td>yes</td>\n",
       "      <td>English</td>\n",
       "    </tr>\n",
       "  </tbody>\n",
       "</table>\n",
       "</div>"
      ],
      "text/plain": [
       "    user_id      group landing_page  time_spent_on_the_page converted  \\\n",
       "95   546446  treatment          new                    5.15        no   \n",
       "96   546544    control          old                    6.52       yes   \n",
       "97   546472  treatment          new                    7.07       yes   \n",
       "98   546481  treatment          new                    6.20       yes   \n",
       "99   546483  treatment          new                    5.86       yes   \n",
       "\n",
       "   language_preferred  \n",
       "95            Spanish  \n",
       "96            English  \n",
       "97            Spanish  \n",
       "98            Spanish  \n",
       "99            English  "
      ]
     },
     "execution_count": 4,
     "metadata": {},
     "output_type": "execute_result"
    }
   ],
   "source": [
    "#viewing the last 5 rows\n",
    "df.tail()"
   ]
  },
  {
   "cell_type": "code",
   "execution_count": 5,
   "id": "5d929450-1615-419c-ae15-2c7c61d43214",
   "metadata": {},
   "outputs": [
    {
     "name": "stdout",
     "output_type": "stream",
     "text": [
      "There are 100 rows and 6 columns in the data set\n"
     ]
    }
   ],
   "source": [
    "#Checking the shape of the data\n",
    "df.shape\n",
    "print('There are',df.shape[0],'rows and',df.shape[1],'columns in the data set')"
   ]
  },
  {
   "cell_type": "code",
   "execution_count": 6,
   "id": "5f0b1b15-1ef3-44c5-af5f-5d7a2f5194a6",
   "metadata": {},
   "outputs": [
    {
     "data": {
      "text/html": [
       "<div>\n",
       "<style scoped>\n",
       "    .dataframe tbody tr th:only-of-type {\n",
       "        vertical-align: middle;\n",
       "    }\n",
       "\n",
       "    .dataframe tbody tr th {\n",
       "        vertical-align: top;\n",
       "    }\n",
       "\n",
       "    .dataframe thead th {\n",
       "        text-align: right;\n",
       "    }\n",
       "</style>\n",
       "<table border=\"1\" class=\"dataframe\">\n",
       "  <thead>\n",
       "    <tr style=\"text-align: right;\">\n",
       "      <th></th>\n",
       "      <th>count</th>\n",
       "      <th>unique</th>\n",
       "      <th>top</th>\n",
       "      <th>freq</th>\n",
       "      <th>mean</th>\n",
       "      <th>std</th>\n",
       "      <th>min</th>\n",
       "      <th>25%</th>\n",
       "      <th>50%</th>\n",
       "      <th>75%</th>\n",
       "      <th>max</th>\n",
       "    </tr>\n",
       "  </thead>\n",
       "  <tbody>\n",
       "    <tr>\n",
       "      <th>user_id</th>\n",
       "      <td>100.0</td>\n",
       "      <td>NaN</td>\n",
       "      <td>NaN</td>\n",
       "      <td>NaN</td>\n",
       "      <td>546517.0</td>\n",
       "      <td>52.295779</td>\n",
       "      <td>546443.0</td>\n",
       "      <td>546467.75</td>\n",
       "      <td>546492.5</td>\n",
       "      <td>546567.25</td>\n",
       "      <td>546592.0</td>\n",
       "    </tr>\n",
       "    <tr>\n",
       "      <th>group</th>\n",
       "      <td>100</td>\n",
       "      <td>2</td>\n",
       "      <td>control</td>\n",
       "      <td>50</td>\n",
       "      <td>NaN</td>\n",
       "      <td>NaN</td>\n",
       "      <td>NaN</td>\n",
       "      <td>NaN</td>\n",
       "      <td>NaN</td>\n",
       "      <td>NaN</td>\n",
       "      <td>NaN</td>\n",
       "    </tr>\n",
       "    <tr>\n",
       "      <th>landing_page</th>\n",
       "      <td>100</td>\n",
       "      <td>2</td>\n",
       "      <td>old</td>\n",
       "      <td>50</td>\n",
       "      <td>NaN</td>\n",
       "      <td>NaN</td>\n",
       "      <td>NaN</td>\n",
       "      <td>NaN</td>\n",
       "      <td>NaN</td>\n",
       "      <td>NaN</td>\n",
       "      <td>NaN</td>\n",
       "    </tr>\n",
       "    <tr>\n",
       "      <th>time_spent_on_the_page</th>\n",
       "      <td>100.0</td>\n",
       "      <td>NaN</td>\n",
       "      <td>NaN</td>\n",
       "      <td>NaN</td>\n",
       "      <td>5.3778</td>\n",
       "      <td>2.378166</td>\n",
       "      <td>0.19</td>\n",
       "      <td>3.88</td>\n",
       "      <td>5.415</td>\n",
       "      <td>7.0225</td>\n",
       "      <td>10.71</td>\n",
       "    </tr>\n",
       "    <tr>\n",
       "      <th>converted</th>\n",
       "      <td>100</td>\n",
       "      <td>2</td>\n",
       "      <td>yes</td>\n",
       "      <td>54</td>\n",
       "      <td>NaN</td>\n",
       "      <td>NaN</td>\n",
       "      <td>NaN</td>\n",
       "      <td>NaN</td>\n",
       "      <td>NaN</td>\n",
       "      <td>NaN</td>\n",
       "      <td>NaN</td>\n",
       "    </tr>\n",
       "    <tr>\n",
       "      <th>language_preferred</th>\n",
       "      <td>100</td>\n",
       "      <td>3</td>\n",
       "      <td>Spanish</td>\n",
       "      <td>34</td>\n",
       "      <td>NaN</td>\n",
       "      <td>NaN</td>\n",
       "      <td>NaN</td>\n",
       "      <td>NaN</td>\n",
       "      <td>NaN</td>\n",
       "      <td>NaN</td>\n",
       "      <td>NaN</td>\n",
       "    </tr>\n",
       "  </tbody>\n",
       "</table>\n",
       "</div>"
      ],
      "text/plain": [
       "                        count unique      top freq      mean        std  \\\n",
       "user_id                 100.0    NaN      NaN  NaN  546517.0  52.295779   \n",
       "group                     100      2  control   50       NaN        NaN   \n",
       "landing_page              100      2      old   50       NaN        NaN   \n",
       "time_spent_on_the_page  100.0    NaN      NaN  NaN    5.3778   2.378166   \n",
       "converted                 100      2      yes   54       NaN        NaN   \n",
       "language_preferred        100      3  Spanish   34       NaN        NaN   \n",
       "\n",
       "                             min        25%       50%        75%       max  \n",
       "user_id                 546443.0  546467.75  546492.5  546567.25  546592.0  \n",
       "group                        NaN        NaN       NaN        NaN       NaN  \n",
       "landing_page                 NaN        NaN       NaN        NaN       NaN  \n",
       "time_spent_on_the_page      0.19       3.88     5.415     7.0225     10.71  \n",
       "converted                    NaN        NaN       NaN        NaN       NaN  \n",
       "language_preferred           NaN        NaN       NaN        NaN       NaN  "
      ]
     },
     "execution_count": 6,
     "metadata": {},
     "output_type": "execute_result"
    }
   ],
   "source": [
    "#describing the statistical variables\n",
    "df.describe(include='all').T"
   ]
  },
  {
   "cell_type": "markdown",
   "id": "13c6659e-acd3-4424-a736-c8ad132bb814",
   "metadata": {},
   "source": [
    "Observations: From the descriptive table above, we can see all the statistical variables of the data set. This is mainly useful for the numerical variables. The average time spent on both landing pages is 5.38 minutes. the minimum time is 19 seconds and the maximum time is 10.7 minutes.\n",
    "Also, from the table, we see that more people were converted than not and the most preferred language is Spanish."
   ]
  },
  {
   "cell_type": "code",
   "execution_count": 7,
   "id": "9975d8a6-792d-4ac1-aa20-8e9f598a1538",
   "metadata": {},
   "outputs": [
    {
     "name": "stdout",
     "output_type": "stream",
     "text": [
      "The number of duplicated values in the data set is 0\n"
     ]
    }
   ],
   "source": [
    "#Checking for any duplicated data in the dataset.\n",
    "df.duplicated().sum()\n",
    "print('The number of duplicated values in the data set is',df.duplicated().sum())"
   ]
  },
  {
   "cell_type": "markdown",
   "id": "3e0bb7a3-f5ec-4629-883b-5f01101dfd3a",
   "metadata": {},
   "source": [
    "Observations: There are no duplicates in the data set"
   ]
  },
  {
   "cell_type": "code",
   "execution_count": 8,
   "id": "f8865bb3-7d0f-4c42-b661-85e5743ac64c",
   "metadata": {},
   "outputs": [
    {
     "data": {
      "text/plain": [
       "user_id                   0\n",
       "group                     0\n",
       "landing_page              0\n",
       "time_spent_on_the_page    0\n",
       "converted                 0\n",
       "language_preferred        0\n",
       "dtype: int64"
      ]
     },
     "execution_count": 8,
     "metadata": {},
     "output_type": "execute_result"
    }
   ],
   "source": [
    "#Checking for null values in the data set\n",
    "df.isnull().sum()"
   ]
  },
  {
   "cell_type": "markdown",
   "id": "c5960914-9088-4131-8979-d01ec206bb6a",
   "metadata": {},
   "source": [
    "Observation: There are no null values in the data set."
   ]
  },
  {
   "cell_type": "code",
   "execution_count": 9,
   "id": "c8dc242e-25b9-49aa-9305-1346945ab149",
   "metadata": {},
   "outputs": [
    {
     "name": "stdout",
     "output_type": "stream",
     "text": [
      "<class 'pandas.core.frame.DataFrame'>\n",
      "RangeIndex: 100 entries, 0 to 99\n",
      "Data columns (total 6 columns):\n",
      " #   Column                  Non-Null Count  Dtype  \n",
      "---  ------                  --------------  -----  \n",
      " 0   user_id                 100 non-null    int64  \n",
      " 1   group                   100 non-null    object \n",
      " 2   landing_page            100 non-null    object \n",
      " 3   time_spent_on_the_page  100 non-null    float64\n",
      " 4   converted               100 non-null    object \n",
      " 5   language_preferred      100 non-null    object \n",
      "dtypes: float64(1), int64(1), object(4)\n",
      "memory usage: 4.8+ KB\n"
     ]
    }
   ],
   "source": [
    "#Checking the info of the data set\n",
    "df.info()"
   ]
  },
  {
   "cell_type": "markdown",
   "id": "5dc92d8e-2920-4381-8f27-008df90f42b7",
   "metadata": {},
   "source": [
    "Observations: From the info, we can see all the data types present in the data set. User_id is seen as an integer, however, it is only for identification, so we will not acknowledge it as a numerical variable.\n",
    "most of the other columns are categorical variables and are represented as strings."
   ]
  },
  {
   "cell_type": "markdown",
   "id": "68f3b2c9",
   "metadata": {
    "id": "68f3b2c9"
   },
   "source": [
    "### Univariate Analysis"
   ]
  },
  {
   "cell_type": "code",
   "execution_count": 10,
   "id": "e0595817-1f7b-4082-9386-4d84e8b93967",
   "metadata": {},
   "outputs": [
    {
     "data": {
      "image/png": "[encoded data removed]",
      "text/plain": [
       "<Figure size 432x288 with 1 Axes>"
      ]
     },
     "metadata": {
      "needs_background": "light"
     },
     "output_type": "display_data"
    }
   ],
   "source": [
    "sns.boxplot(data=df, x='time_spent_on_the_page');"
   ]
  },
  {
   "cell_type": "markdown",
   "id": "b3ef1289-0e8b-4c13-a679-3da5bfb1d63e",
   "metadata": {},
   "source": [
    "Observations: this box plot shows us the analytical details of the time spent on the page. The maximum time is above 10 minutes, the minimum time is a few seconds and the median time is slightly above 5 minutes. 75% of the users in the groups spent less than 7 minutes on the landing page."
   ]
  },
  {
   "cell_type": "code",
   "execution_count": 11,
   "id": "ebb608dd-24ef-44f5-8e04-f331334d8ad9",
   "metadata": {},
   "outputs": [
    {
     "data": {
      "image/png": "[encoded data removed]",
      "text/plain": [
       "<Figure size 432x288 with 1 Axes>"
      ]
     },
     "metadata": {
      "needs_background": "light"
     },
     "output_type": "display_data"
    }
   ],
   "source": [
    "sns.histplot(data=df, x='language_preferred');"
   ]
  },
  {
   "cell_type": "markdown",
   "id": "ae5d4ed7-7cde-4777-aa4c-54b18d8d8279",
   "metadata": {},
   "source": [
    "Observations: from this histplot, we see that the most preferred languages are Spanish and French, and the least preferred language is English"
   ]
  },
  {
   "cell_type": "code",
   "execution_count": 12,
   "id": "1932d0f3",
   "metadata": {
    "id": "1932d0f3"
   },
   "outputs": [
    {
     "data": {
      "image/png": "[encoded data removed]",
      "text/plain": [
       "<Figure size 432x288 with 1 Axes>"
      ]
     },
     "metadata": {
      "needs_background": "light"
     },
     "output_type": "display_data"
    }
   ],
   "source": [
    "sns.histplot(data=df, x='converted');"
   ]
  },
  {
   "cell_type": "markdown",
   "id": "d8d68d99-bad4-43ba-9f22-a758ec183479",
   "metadata": {},
   "source": [
    "Observations: This plot shows us that the number of people converted is greater than the number of people who were not converted during this study"
   ]
  },
  {
   "cell_type": "markdown",
   "id": "fad2de2f",
   "metadata": {
    "id": "fad2de2f"
   },
   "source": [
    "### Bivariate Analysis"
   ]
  },
  {
   "cell_type": "code",
   "execution_count": 13,
   "id": "58e9a1d0",
   "metadata": {
    "id": "58e9a1d0"
   },
   "outputs": [
    {
     "data": {
      "image/png": "[encoded data removed]",
      "text/plain": [
       "<Figure size 432x288 with 1 Axes>"
      ]
     },
     "metadata": {
      "needs_background": "light"
     },
     "output_type": "display_data"
    }
   ],
   "source": [
    "sns.boxplot(data=df, x='converted',y='time_spent_on_the_page');"
   ]
  },
  {
   "cell_type": "markdown",
   "id": "08b088af-cf03-4e55-9635-c23168aa660a",
   "metadata": {},
   "source": [
    "Observations: From this plot, we can see that the person who spent the lowest time on a landing page was not converted, and the person who spent the most time on a landing page was converted. The median time spent on the landing page for those who were converted is higher than that of those who were not."
   ]
  },
  {
   "cell_type": "code",
   "execution_count": 14,
   "id": "51347a6c-4909-4d8f-8053-6358b4f6a7a6",
   "metadata": {},
   "outputs": [
    {
     "data": {
      "image/png": "[encoded data removed]",
      "text/plain": [
       "<Figure size 432x288 with 1 Axes>"
      ]
     },
     "metadata": {
      "needs_background": "light"
     },
     "output_type": "display_data"
    }
   ],
   "source": [
    "sns.barplot(data=df, x='converted',y='time_spent_on_the_page',ci=False);"
   ]
  },
  {
   "cell_type": "markdown",
   "id": "645c58c6-880a-4374-a0c8-dda45b3b74a4",
   "metadata": {},
   "source": [
    "Observations: Here, we see that those that were converted, averagely spent more time on the page"
   ]
  },
  {
   "cell_type": "code",
   "execution_count": 15,
   "id": "bd3492cb-49dc-4be8-b0c1-6c3ce8bfdf6d",
   "metadata": {},
   "outputs": [
    {
     "data": {
      "image/png": "[encoded data removed]",
      "text/plain": [
       "<Figure size 432x288 with 1 Axes>"
      ]
     },
     "metadata": {
      "needs_background": "light"
     },
     "output_type": "display_data"
    }
   ],
   "source": [
    "sns.boxplot(data=df, x='landing_page',y='time_spent_on_the_page');"
   ]
  },
  {
   "cell_type": "markdown",
   "id": "f87837b7-d21f-41ab-a1ce-2f7bc2e0c0a6",
   "metadata": {},
   "source": [
    "Observations: From the box plot above, we see that people averagely spent more time on the new landing page than the old one."
   ]
  },
  {
   "cell_type": "code",
   "execution_count": 16,
   "id": "5951c36d-49fa-4e13-b366-9afd4adb52bf",
   "metadata": {},
   "outputs": [
    {
     "data": {
      "image/png": "[encoded data removed]",
      "text/plain": [
       "<Figure size 432x288 with 1 Axes>"
      ]
     },
     "metadata": {
      "needs_background": "light"
     },
     "output_type": "display_data"
    }
   ],
   "source": [
    "sns.boxplot(data=df, x='landing_page',y='time_spent_on_the_page',hue='converted');"
   ]
  },
  {
   "cell_type": "markdown",
   "id": "51f08b5a-d0a5-40f5-9901-386f80d99143",
   "metadata": {},
   "source": [
    "Observations: from this boxplot, we see that the median time spent by people who were converted via the new landing page is higher than those who were converted by the old one. Also, people spent more time on the new landing page, whether they became converted or not."
   ]
  },
  {
   "cell_type": "code",
   "execution_count": 17,
   "id": "e8dd1b21-7c40-40dc-afc9-8d3dbb8859bd",
   "metadata": {},
   "outputs": [
    {
     "data": {
      "image/png": "[encoded data removed]",
      "text/plain": [
       "<Figure size 432x288 with 1 Axes>"
      ]
     },
     "metadata": {
      "needs_background": "light"
     },
     "output_type": "display_data"
    }
   ],
   "source": [
    "sns.boxplot(data=df, x='group',y='time_spent_on_the_page');"
   ]
  },
  {
   "cell_type": "markdown",
   "id": "b8a6b433-459d-432b-91ad-6bd3646af3a9",
   "metadata": {},
   "source": [
    "observations: the treatment group sepnt more time on the page. this is expected, seeing as the treatment group represents those who landed on the new page."
   ]
  },
  {
   "cell_type": "code",
   "execution_count": 18,
   "id": "4f145d25-e03c-4157-9cc7-83327e7d4035",
   "metadata": {},
   "outputs": [
    {
     "data": {
      "image/png": "[encoded data removed]",
      "text/plain": [
       "<Figure size 432x288 with 1 Axes>"
      ]
     },
     "metadata": {
      "needs_background": "light"
     },
     "output_type": "display_data"
    }
   ],
   "source": [
    "sns.boxplot(data=df, x='language_preferred',y='time_spent_on_the_page');"
   ]
  },
  {
   "cell_type": "markdown",
   "id": "3d825b7b-3276-4c01-9aa2-c6c25bb46081",
   "metadata": {},
   "source": [
    "Observations: the median for the time spent on the page by users who prefer english is highest, followed closely by Spanish and French users. 50% of the spanish and English users spent less than 6 minutes on the page, while 50% of the French users spent about 5 minutes or less."
   ]
  },
  {
   "cell_type": "code",
   "execution_count": 19,
   "id": "dc96fd4f-7c98-401e-8640-7706a7291e2e",
   "metadata": {},
   "outputs": [
    {
     "data": {
      "image/png": "[encoded data removed]",
      "text/plain": [
       "<Figure size 432x288 with 1 Axes>"
      ]
     },
     "metadata": {
      "needs_background": "light"
     },
     "output_type": "display_data"
    }
   ],
   "source": [
    "sns.barplot(data=df, x='language_preferred',y='time_spent_on_the_page',ci=False);"
   ]
  },
  {
   "cell_type": "markdown",
   "id": "30d30a85-e887-4203-ab8c-92e628b03482",
   "metadata": {},
   "source": [
    "Observations: The users with English as the preferred language spent the most time on the page though it had the lowest count of users. "
   ]
  },
  {
   "cell_type": "markdown",
   "id": "27906576",
   "metadata": {
    "id": "27906576"
   },
   "source": [
    "## 1. Do the users spend more time on the new landing page than the existing landing page?"
   ]
  },
  {
   "cell_type": "markdown",
   "id": "e5fdf0c8",
   "metadata": {
    "id": "e5fdf0c8"
   },
   "source": [
    "### Perform Visual Analysis"
   ]
  },
  {
   "cell_type": "code",
   "execution_count": 20,
   "id": "6eZJa41eg21n",
   "metadata": {
    "id": "6eZJa41eg21n"
   },
   "outputs": [
    {
     "data": {
      "image/png": "[encoded data removed]",
      "text/plain": [
       "<Figure size 432x288 with 1 Axes>"
      ]
     },
     "metadata": {
      "needs_background": "light"
     },
     "output_type": "display_data"
    }
   ],
   "source": [
    "sns.barplot(data=df, x='landing_page',y='time_spent_on_the_page',ci=False);"
   ]
  },
  {
   "cell_type": "markdown",
   "id": "44e6411c-4394-45e0-ae2e-2fd6cec7d0ec",
   "metadata": {},
   "source": [
    "From visualisation, we see that the time spent on the new landing page is more than the old. we will now see if we can prove this to be right statistically"
   ]
  },
  {
   "cell_type": "code",
   "execution_count": 21,
   "id": "28cd0f10-4352-4c7d-80fc-5e534b0e6f48",
   "metadata": {},
   "outputs": [
    {
     "data": {
      "text/plain": [
       "yes    54\n",
       "no     46\n",
       "Name: converted, dtype: int64"
      ]
     },
     "execution_count": 21,
     "metadata": {},
     "output_type": "execute_result"
    }
   ],
   "source": [
    "df['converted'].value_counts()"
   ]
  },
  {
   "cell_type": "markdown",
   "id": "56b3dafd",
   "metadata": {
    "id": "56b3dafd"
   },
   "source": [
    "### Step 1: Define the null and alternate hypotheses"
   ]
  },
  {
   "cell_type": "markdown",
   "id": "29b3e683-eafb-4eb0-9f94-9d707ab2bce2",
   "metadata": {
    "id": "d2ac77ef"
   },
   "source": [
    "#We will test the null hypothesis:\n",
    "\n",
    ">$H_0:Nlp<= Elp $\n",
    "The users spend less or equal time on the new landing page than the existing landing page\n",
    "\n",
    "against the alternate hypothesis\n",
    "\n",
    ">$H_a:Nlp>Elp$\n",
    "The users spend more time on the new landing page than the existing landing page"
   ]
  },
  {
   "cell_type": "markdown",
   "id": "c7ee4907",
   "metadata": {
    "id": "c7ee4907"
   },
   "source": [
    "### Step 2: Select Appropriate test"
   ]
  },
  {
   "cell_type": "markdown",
   "id": "2c183cd7",
   "metadata": {
    "id": "2c183cd7"
   },
   "source": [
    "### Let's test whether the T-test assumptions are satisfied or not\n",
    "\n",
    "* Continuous data - Yes, the time spent is measured on a continuous scale.\n",
    "* Normally distributed populations - we can assume a normally distributed population as the number of observations are greater than 30.\n",
    "* Independent populations - As we are looking at two different groups, the two samples are from two independent populations.\n",
    "* Unequal population standard deviations - As the sample standard deviations are different, the population standard deviations may be assumed to be different.\n",
    "* Random sampling from the population - Yes, we are informed that the collected sample a simple random sample.\n",
    "\n",
    "\n",
    "The appropriate test is 2 sample independent T test"
   ]
  },
  {
   "cell_type": "markdown",
   "id": "3f58c9a7",
   "metadata": {
    "id": "3f58c9a7"
   },
   "source": [
    "### Step 3: Decide the significance level"
   ]
  },
  {
   "cell_type": "markdown",
   "id": "92d7d7ee",
   "metadata": {
    "id": "92d7d7ee"
   },
   "source": [
    "The significance level according to the problem statement is  5% \n",
    "Therefore alpha=0.05"
   ]
  },
  {
   "cell_type": "markdown",
   "id": "5fed2eac",
   "metadata": {
    "id": "5fed2eac"
   },
   "source": [
    "### Step 4: Collect and prepare data"
   ]
  },
  {
   "cell_type": "code",
   "execution_count": 22,
   "id": "f5a59495",
   "metadata": {
    "id": "f5a59495"
   },
   "outputs": [
    {
     "name": "stdout",
     "output_type": "stream",
     "text": [
      "time_spent_on_the_page    4.5324\n",
      "dtype: float64\n",
      "time_spent_on_the_page    6.2232\n",
      "dtype: float64\n"
     ]
    }
   ],
   "source": [
    "#We need to find the mean of the time spent on the page of each category of landing pages.\n",
    "#First, we find the mean of the time spent on the existing landing page and the new landing page\n",
    "mean_existing=df[['user_id','time_spent_on_the_page','landing_page']][df['landing_page']=='old'].groupby('user_id').sum().mean()\n",
    "mean_new=df[['user_id','time_spent_on_the_page','landing_page']][df['landing_page']=='new'].groupby('user_id').sum().mean()\n",
    "print (mean_existing)\n",
    "print (mean_new)"
   ]
  },
  {
   "cell_type": "markdown",
   "id": "8721da63-f425-4a5d-91bc-22e553182655",
   "metadata": {},
   "source": [
    "Observations: The mean of the time spent on the existing landing page and new landing page is 4.53 minutes 6.22 minutes respectively"
   ]
  },
  {
   "cell_type": "code",
   "execution_count": 23,
   "id": "74431976-43cb-47b5-9bba-b36537ffecae",
   "metadata": {},
   "outputs": [
    {
     "name": "stdout",
     "output_type": "stream",
     "text": [
      "time_spent_on_the_page    2.581975\n",
      "dtype: float64\n",
      "time_spent_on_the_page    1.817031\n",
      "dtype: float64\n"
     ]
    }
   ],
   "source": [
    "#we need to then find the standard deviation for both the old and new landing pages:\n",
    "std_existing=df[['user_id','time_spent_on_the_page','landing_page']][df['landing_page']=='old'].groupby('user_id').sum().std()\n",
    "std_new=df[['user_id','time_spent_on_the_page','landing_page']][df['landing_page']=='new'].groupby('user_id').sum().std()\n",
    "print(std_existing)\n",
    "print(std_new)"
   ]
  },
  {
   "cell_type": "markdown",
   "id": "8fc02fe1-5fad-437e-bbb7-ccb3407a700a",
   "metadata": {},
   "source": [
    "Observations: The standard deviation of the time spent on the existing landing page and new landing page is 2.58 minutes and  1.82 minutes"
   ]
  },
  {
   "cell_type": "markdown",
   "id": "f5c5258d",
   "metadata": {
    "id": "f5c5258d"
   },
   "source": [
    "### Step 5: Calculate the p-value"
   ]
  },
  {
   "cell_type": "code",
   "execution_count": 24,
   "id": "fac8594a",
   "metadata": {
    "id": "fac8594a"
   },
   "outputs": [],
   "source": [
    "#defining the variables for the old and new page\n",
    "existing_page=df[['user_id','time_spent_on_the_page','landing_page']][df['landing_page']=='old'].groupby('user_id').sum()\n",
    "new_page=df[['user_id','time_spent_on_the_page','landing_page']][df['landing_page']=='new'].groupby('user_id').sum()"
   ]
  },
  {
   "cell_type": "code",
   "execution_count": 25,
   "id": "770b37c6-d911-42d7-8fab-3610c77ae3bf",
   "metadata": {},
   "outputs": [
    {
     "name": "stdout",
     "output_type": "stream",
     "text": [
      "The test statistics is [3.78677027] and the p-value is  [0.00013924]\n"
     ]
    }
   ],
   "source": [
    "#To find the P-Value:\n",
    "#import the required functions\n",
    "from scipy.stats import ttest_ind\n",
    "\n",
    "# find the p-value\n",
    "test_stat, p_value = ttest_ind(new_page,existing_page, equal_var = False, alternative = 'greater')\n",
    "print('The test statistics is', test_stat, 'and the p-value is ', p_value)\n"
   ]
  },
  {
   "cell_type": "markdown",
   "id": "359b12f8",
   "metadata": {
    "id": "359b12f8"
   },
   "source": [
    "### Step 6: Compare the p-value with $\\alpha$"
   ]
  },
  {
   "cell_type": "code",
   "execution_count": 26,
   "id": "7be47289",
   "metadata": {
    "id": "7be47289"
   },
   "outputs": [
    {
     "name": "stdout",
     "output_type": "stream",
     "text": [
      "As the p-value [0.00013924] is less than the level of significance, we reject the null hypothesis.\n"
     ]
    }
   ],
   "source": [
    "# print the conclusion based on p-value\n",
    "if p_value < 0.05:\n",
    "    print(f'As the p-value {p_value} is less than the level of significance, we reject the null hypothesis.')\n",
    "else:\n",
    "\n",
    "    print(f'As the p-value {p_value} is greater than the level of significance, we fail to reject the null hypothesis.')"
   ]
  },
  {
   "cell_type": "markdown",
   "id": "d9affc84",
   "metadata": {
    "id": "d9affc84"
   },
   "source": [
    "### Step 7:  Draw inference"
   ]
  },
  {
   "cell_type": "markdown",
   "id": "6b16dd4b",
   "metadata": {
    "id": "6b16dd4b"
   },
   "source": [
    "Based on the above, we can reject the null hypothesis. thus, we have enough evidence to prove that the users spend more time on the new landing page than the existing landing page"
   ]
  },
  {
   "cell_type": "markdown",
   "id": "353e9d24",
   "metadata": {
    "id": "353e9d24"
   },
   "source": [
    "## 2. Is the conversion rate (the proportion of users who visit the landing page and get converted) for the new page greater than the conversion rate for the old page?"
   ]
  },
  {
   "cell_type": "code",
   "execution_count": 27,
   "id": "4e534d16-cc47-4a5f-97ad-9bf36218cf07",
   "metadata": {},
   "outputs": [
    {
     "data": {
      "image/png": "[encoded data removed]",
      "text/plain": [
       "<Figure size 432x288 with 1 Axes>"
      ]
     },
     "metadata": {
      "needs_background": "light"
     },
     "output_type": "display_data"
    }
   ],
   "source": [
    "# create a stacked bar plot to compare the distributions of both the categorical features\n",
    "pd.crosstab(df['converted'],df['landing_page'],normalize='index').plot(kind='bar',stacked =True)\n",
    "plt.legend()\n",
    "plt.show()"
   ]
  },
  {
   "cell_type": "markdown",
   "id": "8ab31b3f-3b36-4f78-ab13-f19a4d8d2640",
   "metadata": {},
   "source": [
    "Observations: From the stacked bar plot, We can see that more converts are from the new landing page and we have a few from the old landing page. we will now see if we have enough statistical evidence to prove this."
   ]
  },
  {
   "cell_type": "code",
   "execution_count": 28,
   "id": "3a2d53cb-98f2-4720-9084-210b62bda6db",
   "metadata": {},
   "outputs": [
    {
     "data": {
      "text/html": [
       "<div>\n",
       "<style scoped>\n",
       "    .dataframe tbody tr th:only-of-type {\n",
       "        vertical-align: middle;\n",
       "    }\n",
       "\n",
       "    .dataframe tbody tr th {\n",
       "        vertical-align: top;\n",
       "    }\n",
       "\n",
       "    .dataframe thead th {\n",
       "        text-align: right;\n",
       "    }\n",
       "</style>\n",
       "<table border=\"1\" class=\"dataframe\">\n",
       "  <thead>\n",
       "    <tr style=\"text-align: right;\">\n",
       "      <th>landing_page</th>\n",
       "      <th>new</th>\n",
       "      <th>old</th>\n",
       "    </tr>\n",
       "    <tr>\n",
       "      <th>converted</th>\n",
       "      <th></th>\n",
       "      <th></th>\n",
       "    </tr>\n",
       "  </thead>\n",
       "  <tbody>\n",
       "    <tr>\n",
       "      <th>no</th>\n",
       "      <td>17</td>\n",
       "      <td>29</td>\n",
       "    </tr>\n",
       "    <tr>\n",
       "      <th>yes</th>\n",
       "      <td>33</td>\n",
       "      <td>21</td>\n",
       "    </tr>\n",
       "  </tbody>\n",
       "</table>\n",
       "</div>"
      ],
      "text/plain": [
       "landing_page  new  old\n",
       "converted             \n",
       "no             17   29\n",
       "yes            33   21"
      ]
     },
     "execution_count": 28,
     "metadata": {},
     "output_type": "execute_result"
    }
   ],
   "source": [
    "#we want to see the proportions on a contingency table:\n",
    "contingency_table = pd.crosstab(df['converted'],df['landing_page'])\n",
    "contingency_table"
   ]
  },
  {
   "cell_type": "markdown",
   "id": "2cf64ab1-2ad8-425b-9c92-c23848040aaf",
   "metadata": {},
   "source": [
    "𝐻0:𝑝2<=𝑝1 \n",
    "\n",
    "𝐻𝑎:𝑝2>𝑝1\n",
    "\n",
    "where p1=proportion for the old landing page\n",
    "And p2=proportion for the new landing page"
   ]
  },
  {
   "cell_type": "markdown",
   "id": "07607adb-8abe-4565-ab56-87fdd49c407b",
   "metadata": {},
   "source": [
    "Since the formulated hypotheses are concerned with proportions, we can use a test of proportions analyse the hypotheses and draw a conclusion. We will use a Proportions Z test for this problem."
   ]
  },
  {
   "cell_type": "markdown",
   "id": "aa4e48f4-cc56-4b77-a76d-a45db7cc7ab8",
   "metadata": {},
   "source": [
    "Here, we select α= 0.05 since our significance level is 5%"
   ]
  },
  {
   "cell_type": "code",
   "execution_count": 29,
   "id": "e1465569-060c-4c73-ad8c-7b24cf929386",
   "metadata": {},
   "outputs": [
    {
     "name": "stdout",
     "output_type": "stream",
     "text": [
      "The numbers of converts from the old page and converts from the new page are 21 and 33 respectively\n",
      "The total numbers of those in the old landing page and those in the new landing page are 50 and 50 respectively\n"
     ]
    }
   ],
   "source": [
    "#preparing the data\n",
    "# number of old page converts\n",
    "oldpage_converts=df[df['landing_page']=='old'].converted.value_counts()['yes']\n",
    "# number of new page converts\n",
    "newpage_converts = df[df['landing_page']=='new'].converted.value_counts()['yes']\n",
    "\n",
    "print('The numbers of converts from the old page and converts from the new page are {0} and {1} respectively'.format(oldpage_converts, newpage_converts))\n",
    "\n",
    "#number of old page users in the data\n",
    "n_oldpage = df.landing_page.value_counts()['old']\n",
    "\n",
    "#number of new page users in the data\n",
    "n_newpage = df.landing_page.value_counts()['new']\n",
    "\n",
    "print('The total numbers of those in the old landing page and those in the new landing page are {0} and {1} respectively'.format(n_oldpage, n_newpage))"
   ]
  },
  {
   "cell_type": "code",
   "execution_count": 30,
   "id": "6f36d198-fc8c-42e0-9a20-3790c080ce9a",
   "metadata": {},
   "outputs": [
    {
     "name": "stdout",
     "output_type": "stream",
     "text": [
      " The proportions of converts in the old landing page and new landing page is 0.42, 0.66 respectively\n"
     ]
    }
   ],
   "source": [
    "print(f' The proportions of converts in the old landing page and new landing page is {round(21/50,2)}, {round(33/50,2)} respectively')"
   ]
  },
  {
   "cell_type": "markdown",
   "id": "dbf969c3-a2ef-48a4-9c9b-304a2865a6da",
   "metadata": {},
   "source": [
    "The proportions in the sample are different. The proportion for the new page is larger than the old page. we will conduct the ztest to prove the significance."
   ]
  },
  {
   "cell_type": "markdown",
   "id": "1e2974aa-2d27-469d-9704-d1d86706d073",
   "metadata": {},
   "source": [
    "Based on the above, we  have enough proof to say that the number of converts from the new landing page is different from the old/existing landing page"
   ]
  },
  {
   "cell_type": "code",
   "execution_count": 31,
   "id": "a852f585-0123-4e52-acd0-0bebf73821ff",
   "metadata": {},
   "outputs": [
    {
     "name": "stdout",
     "output_type": "stream",
     "text": [
      "The p-value is 0.008026308204056278\n"
     ]
    }
   ],
   "source": [
    "# finding the p-value using proportion_ztest \n",
    "from statsmodels.stats.proportion import proportions_ztest\n",
    "stat, pval = proportions_ztest([newpage_converts,oldpage_converts] , [n_newpage, n_oldpage,], alternative = 'larger')\n",
    "\n",
    "# print the p-value\n",
    "print('The p-value is '+ str(pval))"
   ]
  },
  {
   "cell_type": "code",
   "execution_count": 32,
   "id": "ca9b13d4-7002-4f9d-b65f-64c4feac4c1f",
   "metadata": {},
   "outputs": [
    {
     "name": "stdout",
     "output_type": "stream",
     "text": [
      "As the p-value 0.008026308204056278 is less than the level of significance, we reject the null hypothesis.\n"
     ]
    }
   ],
   "source": [
    "# print the conclusion based on p-value\n",
    "if pval < 0.05:\n",
    "    print(f'As the p-value {pval} is less than the level of significance, we reject the null hypothesis.')\n",
    "else:\n",
    "    print(f'As the p-value {pval} is greater than the level of significance, we fail to reject the null hypothesis.')"
   ]
  },
  {
   "cell_type": "markdown",
   "id": "f2ada948-7a0a-4731-9b11-8b2b9e5649c0",
   "metadata": {},
   "source": [
    "Inference: We have enough evidence to say that the proportion of users who visit the landing page and get converted for the new page is greater than the conversion rate for the old page"
   ]
  },
  {
   "cell_type": "markdown",
   "id": "d999a3e8-ae6e-4075-bf9e-295965642676",
   "metadata": {
    "id": "d49bfa2d"
   },
   "source": [
    "## 3. Is the conversion and preferred language are independent or related?"
   ]
  },
  {
   "cell_type": "markdown",
   "id": "1e335537-7693-4215-b7b5-59e09cc0a3d9",
   "metadata": {
    "id": "b0e63f17"
   },
   "source": [
    "### Let's write the null and alternative hypothesis\n",
    "\n",
    "\n",
    "We will test the null hypothesis\n",
    "\n",
    ">$H_0:$ Conversion rate is independent of preferred language.\n",
    "\n",
    "against the alternate hypothesis\n",
    "\n",
    ">$H_a:$ Conversion rate is dependent on preferred language."
   ]
  },
  {
   "cell_type": "markdown",
   "id": "d6b79a1e-7123-4aa6-91ca-b66ade0e697d",
   "metadata": {},
   "source": [
    "### To confirm whether the assumptions are satisfied or not\n",
    "\n",
    "* Categorical variables - Yes\n",
    "* Expected value of the number of sample observations in each level of the variable is at least 5 - Yes, the number of observations in each level is greater than 5.\n",
    "* Random sampling from the population - Yes, we are informed that the collected sample is a simple random sample."
   ]
  },
  {
   "cell_type": "code",
   "execution_count": 33,
   "id": "6ea9c79a-f129-4720-a0e2-01b8ec8aaf0c",
   "metadata": {},
   "outputs": [
    {
     "data": {
      "image/png": "[encoded data removed]",
      "text/plain": [
       "<Figure size 432x288 with 1 Axes>"
      ]
     },
     "metadata": {
      "needs_background": "light"
     },
     "output_type": "display_data"
    }
   ],
   "source": [
    "# create a stacked bar plot to compare the distributions of both the categorical features\n",
    "pd.crosstab(df['converted'],df['language_preferred'],normalize='index').plot(kind='bar',stacked =True)\n",
    "plt.legend()\n",
    "plt.show()"
   ]
  },
  {
   "cell_type": "code",
   "execution_count": 34,
   "id": "2270992c-efa4-470a-8f6a-9ffe363f55e7",
   "metadata": {},
   "outputs": [
    {
     "data": {
      "text/html": [
       "<div>\n",
       "<style scoped>\n",
       "    .dataframe tbody tr th:only-of-type {\n",
       "        vertical-align: middle;\n",
       "    }\n",
       "\n",
       "    .dataframe tbody tr th {\n",
       "        vertical-align: top;\n",
       "    }\n",
       "\n",
       "    .dataframe thead th {\n",
       "        text-align: right;\n",
       "    }\n",
       "</style>\n",
       "<table border=\"1\" class=\"dataframe\">\n",
       "  <thead>\n",
       "    <tr style=\"text-align: right;\">\n",
       "      <th>converted</th>\n",
       "      <th>no</th>\n",
       "      <th>yes</th>\n",
       "    </tr>\n",
       "    <tr>\n",
       "      <th>language_preferred</th>\n",
       "      <th></th>\n",
       "      <th></th>\n",
       "    </tr>\n",
       "  </thead>\n",
       "  <tbody>\n",
       "    <tr>\n",
       "      <th>English</th>\n",
       "      <td>11</td>\n",
       "      <td>21</td>\n",
       "    </tr>\n",
       "    <tr>\n",
       "      <th>French</th>\n",
       "      <td>19</td>\n",
       "      <td>15</td>\n",
       "    </tr>\n",
       "    <tr>\n",
       "      <th>Spanish</th>\n",
       "      <td>16</td>\n",
       "      <td>18</td>\n",
       "    </tr>\n",
       "  </tbody>\n",
       "</table>\n",
       "</div>"
      ],
      "text/plain": [
       "converted           no  yes\n",
       "language_preferred         \n",
       "English             11   21\n",
       "French              19   15\n",
       "Spanish             16   18"
      ]
     },
     "execution_count": 34,
     "metadata": {},
     "output_type": "execute_result"
    }
   ],
   "source": [
    "contingency_table = pd.crosstab(df['language_preferred'],df['converted'])\n",
    "contingency_table"
   ]
  },
  {
   "cell_type": "code",
   "execution_count": 35,
   "id": "7be17fe1-4080-4b38-8145-e30c762a9800",
   "metadata": {},
   "outputs": [
    {
     "name": "stdout",
     "output_type": "stream",
     "text": [
      "The p-value is 0.2129888748754345\n"
     ]
    }
   ],
   "source": [
    "# use chi2_contingency() to find the p-value\n",
    "# import the required function\n",
    "from scipy.stats import chi2_contingency\n",
    "chi2, pval, dof, exp_freq = chi2_contingency(contingency_table)\n",
    "# print the p-value\n",
    "print('The p-value is', pval)"
   ]
  },
  {
   "cell_type": "code",
   "execution_count": 36,
   "id": "0c308904-dcc6-4899-b48f-1c182fe8125f",
   "metadata": {},
   "outputs": [
    {
     "name": "stdout",
     "output_type": "stream",
     "text": [
      "As the p-value 0.2129888748754345 is greater than the level of significance, we fail to reject the null hypothesis.\n"
     ]
    }
   ],
   "source": [
    "# print the conclusion based on p-value\n",
    "if pval < 0.05:\n",
    "    print(f'As the p-value {pval} is less than the level of significance, we reject the null hypothesis.')\n",
    "else:\n",
    "    print(f'As the p-value {pval} is greater than the level of significance, we fail to reject the null hypothesis.')"
   ]
  },
  {
   "cell_type": "markdown",
   "id": "2e78a442-5e66-4410-9d91-a0f674ff73d4",
   "metadata": {},
   "source": [
    "Based on the above, we can say that we have enough evidence to prove that the  Conversion rate is independent of the preferred language."
   ]
  },
  {
   "cell_type": "markdown",
   "id": "8d585a90",
   "metadata": {
    "id": "8d585a90"
   },
   "source": [
    "## 4. Is the time spent on the new page same for the different language users?"
   ]
  },
  {
   "cell_type": "code",
   "execution_count": 37,
   "id": "b422f395",
   "metadata": {
    "id": "b422f395"
   },
   "outputs": [
    {
     "data": {
      "text/plain": [
       "Spanish    34\n",
       "French     34\n",
       "English    32\n",
       "Name: language_preferred, dtype: int64"
      ]
     },
     "execution_count": 37,
     "metadata": {},
     "output_type": "execute_result"
    }
   ],
   "source": [
    "# get the different values for language\n",
    "df['language_preferred'].value_counts()"
   ]
  },
  {
   "cell_type": "markdown",
   "id": "a941ae35-f8d4-4cd9-8f24-bc5d344b4879",
   "metadata": {},
   "source": [
    "### stating the null and alternative hypothesis\n",
    "\n",
    "Let $\\mu_1, \\mu_2, \\mu_3$ be the means of time spent for languages Spanish, French and English respectively.\n",
    "\n",
    "We will test the null hypothesis\n",
    "\n",
    ">$H_0: \\mu_1 = \\mu_2 = \\mu_3$\n",
    "\n",
    "against the alternative hypothesis\n",
    "\n",
    ">$H_a: $ the time spent on at least one of the languages  is different from the rest.\n",
    "\n"
   ]
  },
  {
   "cell_type": "code",
   "execution_count": 38,
   "id": "8b3a28d0-bb73-4ce1-8daa-d8715cf4fce6",
   "metadata": {},
   "outputs": [
    {
     "name": "stdout",
     "output_type": "stream",
     "text": [
      "language_preferred\n",
      "English    5.559062\n",
      "French     5.253235\n",
      "Spanish    5.331765\n",
      "Name: time_spent_on_the_page, dtype: float64\n"
     ]
    },
    {
     "data": {
      "image/png": "[encoded data removed]",
      "text/plain": [
       "<Figure size 432x432 with 1 Axes>"
      ]
     },
     "metadata": {
      "needs_background": "light"
     },
     "output_type": "display_data"
    }
   ],
   "source": [
    "print(df.groupby(\"language_preferred\")[\"time_spent_on_the_page\"].mean())\n",
    "\n",
    "# draw the boxplot for visualization \n",
    "fig, ax = plt.subplots(figsize = (6,6))\n",
    "a = sns.boxplot(x= \"language_preferred\", y = 'time_spent_on_the_page' , data = df, hue = 'language_preferred')\n",
    "a.set_title(\"Time spent on the page  w.r.t. Language (3 levels)\", fontsize=15)\n",
    "plt.show()"
   ]
  },
  {
   "cell_type": "markdown",
   "id": "761787ab-9c69-4b9e-a3f9-95063ac3b490",
   "metadata": {},
   "source": [
    "Now, the normality and equality of variance assumptions need to be checked.\n",
    "\n",
    "For testing of normality, Shapiro-Wilk’s test is applied to the response variable.\n",
    "\n",
    "For equality of variance, Levene test is applied to the response variable."
   ]
  },
  {
   "cell_type": "markdown",
   "id": "b18a0f6b-3ac8-4a6f-95d5-71feca98997c",
   "metadata": {},
   "source": [
    "###Shapiro-Wilk's test\n",
    "We will test the null hypothesis\n",
    "\n",
    ">$H_0:$ time_spent_on_the_page follows a normal distribution against\n",
    "\n",
    "against the alternative hypothesis\n",
    "\n",
    ">$H_a:$ time_spent_on_the_page does not follow a normal distribution"
   ]
  },
  {
   "cell_type": "code",
   "execution_count": 39,
   "id": "724c997e-ca99-450e-96df-002e9b2e6f42",
   "metadata": {},
   "outputs": [
    {
     "name": "stdout",
     "output_type": "stream",
     "text": [
      "The p-value is 0.5643684267997742\n"
     ]
    }
   ],
   "source": [
    "# Assumption 1: Normality\n",
    "# import the required function\n",
    "from scipy import stats\n",
    "\n",
    "# find the p-value\n",
    "w, p_value = stats.shapiro(df['time_spent_on_the_page']) \n",
    "print('The p-value is', p_value)"
   ]
  },
  {
   "cell_type": "markdown",
   "id": "98e246cd-1de0-422f-9983-6ae1e79333fd",
   "metadata": {},
   "source": [
    "Since p-value of the test is very large, we fail to reject the null hypothesis. Therefore, we can say that the time spent on the page follows a normal distribution"
   ]
  },
  {
   "cell_type": "markdown",
   "id": "d19da871-b5e5-4384-84d9-45b28b6f4b5c",
   "metadata": {},
   "source": [
    "### Levene’s test\n",
    "\n",
    "We will test the null hypothesis\n",
    "\n",
    ">$H_0$: All the population variances are equal\n",
    "\n",
    "against the alternative hypothesis\n",
    "\n",
    ">$H_a$: At least one variance is different from the rest"
   ]
  },
  {
   "cell_type": "code",
   "execution_count": 40,
   "id": "7dc09e62-7e98-4e23-90ae-666e5d23086f",
   "metadata": {},
   "outputs": [
    {
     "name": "stdout",
     "output_type": "stream",
     "text": [
      "The p-value is 0.06515086840327314\n"
     ]
    }
   ],
   "source": [
    "#Assumption 2: Homogeneity of Variance\n",
    "#import the required function\n",
    "from scipy.stats import levene\n",
    "statistic, p_value = levene( df['time_spent_on_the_page'][df['language_preferred']==\"Spanish\"], \n",
    "                                   df['time_spent_on_the_page'][df['language_preferred']==\"English\"], \n",
    "                                   df['time_spent_on_the_page'][df['language_preferred']==\"French\"])\n",
    "# find the p-value\n",
    "print('The p-value is', p_value)"
   ]
  },
  {
   "cell_type": "markdown",
   "id": "e149e498-2866-4af1-82ec-4df0753e450d",
   "metadata": {},
   "source": [
    "Since the p-value is larger than alpha, we fail to reject the null hypothesis of homogeneity of variances. We can therefpre assume that all the population variances are equal"
   ]
  },
  {
   "cell_type": "code",
   "execution_count": 41,
   "id": "622039fb-b414-4a57-b30a-719ed6520d58",
   "metadata": {},
   "outputs": [
    {
     "name": "stdout",
     "output_type": "stream",
     "text": [
      "The p-value is 0.8665610536012648\n"
     ]
    }
   ],
   "source": [
    "#import the required function\n",
    "from scipy.stats import f_oneway\n",
    "\n",
    "# perform one-way anova test\n",
    "test_stat, p_value = f_oneway(df.loc[df['language_preferred'] == 'Spanish', 'time_spent_on_the_page'],\n",
    "                              df.loc[df['language_preferred'] == 'English', 'time_spent_on_the_page'],\n",
    "                              df.loc[df['language_preferred'] == 'French', 'time_spent_on_the_page'])\n",
    "print('The p-value is ' + str(p_value))"
   ]
  },
  {
   "cell_type": "markdown",
   "id": "8fe73a2d-aab7-45d1-b6b1-a4d5915b3c32",
   "metadata": {},
   "source": [
    "As the p-value is much more than the significance level, we fail to reject the null hypothesis. therefore, we have enough evidence to prove that the average time spent is the same for the different language user"
   ]
  },
  {
   "cell_type": "markdown",
   "id": "21fb1063",
   "metadata": {
    "id": "21fb1063",
    "tags": []
   },
   "source": [
    "## Conclusion and Business Recommendations\n",
    "1. From the above analysis, we can conclude that the design of the new landing page has been able to increase engagement of the users.\n",
    "2. We can also conclude that the users who use the new landing page are more likely to subscribe than the old landing page. The new page is thus more effecrive in converting to subscribers.\n",
    "3. We can say that the amount of time spent and consequently, the decision to subscribe or not is independent of the preferred language of the user. "
   ]
  },
  {
   "cell_type": "markdown",
   "id": "U0dAd4i0iCHo",
   "metadata": {
    "id": "U0dAd4i0iCHo"
   },
   "source": [
    "___"
   ]
  }
 ],
 "metadata": {
  "colab": {
   "collapsed_sections": [
    "a6a3d218",
    "6970dd99",
    "9d75cfa2",
    "68f3b2c9",
    "fad2de2f",
    "27906576",
    "e5fdf0c8",
    "56b3dafd",
    "c7ee4907",
    "3f58c9a7",
    "5fed2eac",
    "f5c5258d",
    "359b12f8",
    "d9affc84",
    "353e9d24",
    "d49bfa2d",
    "8d585a90",
    "3acbc947"
   ],
   "name": "ENews_Express_Learner_Notebook_Full_Code v1.1.ipynb",
   "provenance": []
  },
  "kernelspec": {
   "display_name": "Python 3 (ipykernel)",
   "language": "python",
   "name": "python3"
  },
  "language_info": {
   "codemirror_mode": {
    "name": "ipython",
    "version": 3
   },
   "file_extension": ".py",
   "mimetype": "text/x-python",
   "name": "python",
   "nbconvert_exporter": "python",
   "pygments_lexer": "ipython3",
   "version": "3.9.7"
  }
 },
 "nbformat": 4,
 "nbformat_minor": 5
}
